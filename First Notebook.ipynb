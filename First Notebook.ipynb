{
 "cells": [
  {
   "cell_type": "code",
   "execution_count": 8,
   "metadata": {},
   "outputs": [],
   "source": [
    "import openpyxl \n",
    "from matplotlib import pyplot as plt"
   ]
  },
  {
   "cell_type": "code",
   "execution_count": 9,
   "metadata": {},
   "outputs": [],
   "source": [
    "path = \"C:\\\\Users\\\\Admin\\\\OneDrive\\\\Desktop\\\\Programming\\\\Juypter Notebook\\\\2020\\\\Stuff\\\\Test-Data.xlsx\""
   ]
  },
  {
   "cell_type": "code",
   "execution_count": 10,
   "metadata": {},
   "outputs": [
    {
     "name": "stdout",
     "output_type": "stream",
     "text": [
      "Using matplotlib backend: TkAgg\n"
     ]
    }
   ],
   "source": [
    "wb_obj = openpyxl.load_workbook(path) \n",
    "sheet_obj = wb_obj.active \n",
    "max_row = sheet_obj.max_row \n",
    "dates = []\n",
    "status = []\n",
    "%matplotlib"
   ]
  },
  {
   "cell_type": "code",
   "execution_count": 11,
   "metadata": {},
   "outputs": [
    {
     "name": "stdout",
     "output_type": "stream",
     "text": [
      "[24, 25, 27, 28, 30, 31]\n",
      "[2, 4, 8, 9, 1, 5]\n"
     ]
    }
   ],
   "source": [
    "for i in range(2, max_row + 1): \n",
    "    cell_obj = sheet_obj.cell(row = i, column = 1) \n",
    "    row_obj = sheet_obj.cell(row = i, column = 2)\n",
    "    dates.append(cell_obj.value)\n",
    "    status.append(row_obj.value)\n",
    "print(dates)\n",
    "print(status)"
   ]
  },
  {
   "cell_type": "code",
   "execution_count": 12,
   "metadata": {},
   "outputs": [
    {
     "data": {
      "text/plain": [
       "[<matplotlib.lines.Line2D at 0x182d8be0fa0>]"
      ]
     },
     "execution_count": 12,
     "metadata": {},
     "output_type": "execute_result"
    }
   ],
   "source": [
    "plt.title('League Data-Analysis')\n",
    "plt.xlabel('Dates')\n",
    "plt.ylabel('Status')\n",
    "plt.plot(dates, status, 'r--')"
   ]
  },
  {
   "cell_type": "code",
   "execution_count": null,
   "metadata": {},
   "outputs": [],
   "source": []
  }
 ],
 "metadata": {
  "kernelspec": {
   "display_name": "Python 3",
   "language": "python",
   "name": "python3"
  },
  "language_info": {
   "codemirror_mode": {
    "name": "ipython",
    "version": 3
   },
   "file_extension": ".py",
   "mimetype": "text/x-python",
   "name": "python",
   "nbconvert_exporter": "python",
   "pygments_lexer": "ipython3",
   "version": "3.9.1"
  }
 },
 "nbformat": 4,
 "nbformat_minor": 4
}
