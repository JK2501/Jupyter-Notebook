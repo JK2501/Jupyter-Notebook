{
 "cells": [
  {
   "cell_type": "markdown",
   "id": "7e752668",
   "metadata": {
    "hide_input": false
   },
   "source": [
    "*Note: Before You use this Notebook make sure You have all modules installed via e.g. [PIP](https://docs.python.org/3/installing/index.html#basic-usage).*\n",
    "1. requests\n",
    "2. IPython.display\n",
    "3. urllib\n",
    "4. Pandas\n",
    "5. matplotlib\n",
    "6. numpy"
   ]
  },
  {
   "cell_type": "markdown",
   "id": "edb05488",
   "metadata": {
    "hide_input": false
   },
   "source": [
    "# League of Legends \n",
    "Basic Profile Stats using [Riot Developer API](https://developer.riotgames.com): \n",
    "\n",
    "\n",
    "**Requirements:** \n",
    "1. Riot Developer API Key \n",
    "2. Ingame Name\n",
    "3. Current Patch "
   ]
  },
  {
   "cell_type": "code",
   "execution_count": 190,
   "id": "7780343b",
   "metadata": {
    "hide_input": false
   },
   "outputs": [],
   "source": [
    "key = \"RGAPI-c61d1a85-9bca-430c-8b09-d1c47b715b69\"                          #Specific API Key \n",
    "params = {'api_key': key}                                                   #Parameters Object to include in Query/Header "
   ]
  },
  {
   "cell_type": "code",
   "execution_count": 191,
   "id": "8f32e580",
   "metadata": {
    "hide_input": false
   },
   "outputs": [],
   "source": [
    "patch = '11.7.1'                                                                 #Current LoL Patch \n",
    "name  = \"DarkHumor25\"                                                                #LoL Account Name"
   ]
  },
  {
   "cell_type": "code",
   "execution_count": 192,
   "id": "7ca22363",
   "metadata": {
    "hide_input": true
   },
   "outputs": [],
   "source": [
    "import requests\n",
    "PPath = \"https://euw1.api.riotgames.com/lol/summoner/v4/summoners/by-name/\" #Request URL for Profile Data  \n",
    "PData = requests.get(PPath + name, params=params).json()                    #Actual Data from API-Call  "
   ]
  },
  {
   "cell_type": "markdown",
   "id": "5133164c",
   "metadata": {
    "hide_input": false
   },
   "source": [
    "***\n",
    "## Path Parameters for API"
   ]
  },
  {
   "cell_type": "code",
   "execution_count": 193,
   "id": "ec56c5a6",
   "metadata": {
    "hide_input": true
   },
   "outputs": [
    {
     "name": "stdout",
     "output_type": "stream",
     "text": [
      "Summoner-ID: Mnqc4pDLCl9tdzvwMlXyWKXHnGedPM_17cHqibbRswUMoWAq\n",
      "Account-ID:  9ObJesSTXToff_Rr6ZYzKyQ5bNB904Y72MGoH879A7oI8vs\n",
      "PUUID:       yNHq6iqxfOijgBYOIsbJH0z2jEhvJuUkBP5Ou8zXPYUxLKww6b0g426edYIfgSepRbguAMdhAy_qPw\n"
     ]
    }
   ],
   "source": [
    "SummonerID = str(PData['id'])\n",
    "AccountID  = str(PData['accountId'])\n",
    "PUUID      = str(PData['puuid'])\n",
    "print(\"Summoner-ID: \" + SummonerID)\n",
    "print(\"Account-ID:  \" + AccountID)\n",
    "print(\"PUUID:       \" + PUUID)"
   ]
  },
  {
   "cell_type": "markdown",
   "id": "06425248",
   "metadata": {
    "hide_input": true
   },
   "source": [
    "***\n",
    "## Profile Data"
   ]
  },
  {
   "cell_type": "code",
   "execution_count": 194,
   "id": "548b3ce4",
   "metadata": {
    "hide_input": true
   },
   "outputs": [
    {
     "name": "stdout",
     "output_type": "stream",
     "text": [
      "Summoner-Level: 160\n",
      "ProfileIcon-ID: 745\n"
     ]
    }
   ],
   "source": [
    "Level = str(PData['summonerLevel'])\n",
    "ID    = str(PData['profileIconId'])\n",
    "print(\"Summoner-Level: \" + Level)\n",
    "print(\"ProfileIcon-ID: \" + ID)"
   ]
  },
  {
   "cell_type": "code",
   "execution_count": 195,
   "id": "fa2d7649",
   "metadata": {
    "hide_input": true
   },
   "outputs": [
    {
     "data": {
      "text/html": [
       "<h2 style='display:inline; position: relative; top: 10px; color: #005180'>DarkHumor25</h2><img src='http://ddragon.leagueoflegends.com/cdn/11.7.1/img/profileicon/745.png' style='width:40px; display: inline; position: relative; left: 25px'><h2 style='display:inline; position: relative; top: 12px; left: 45px; color: #005180'>160</h2>"
      ],
      "text/plain": [
       "<IPython.core.display.HTML object>"
      ]
     },
     "metadata": {},
     "output_type": "display_data"
    }
   ],
   "source": [
    "from IPython.core.display import display, HTML\n",
    "width  = '40px'\n",
    "color  = '#005180'\n",
    "PName  = f\"<h2 style='display:inline; position: relative; top: 10px; color: {color}'>{name}</h2>\" \n",
    "PICon  = f\"<img src='http://ddragon.leagueoflegends.com/cdn/{patch}/img/profileicon/{ID}.png' style='width:{width}; display: inline; position: relative; left: 25px'>\"\n",
    "PLevel = f\"<h2 style='display:inline; position: relative; top: 12px; left: 45px; color: {color}'>{Level}</h2>\"\n",
    "display(HTML(PName + PICon + PLevel))"
   ]
  },
  {
   "cell_type": "markdown",
   "id": "a58010af",
   "metadata": {
    "hide_input": true
   },
   "source": [
    "***\n",
    "## Best Champions \n"
   ]
  },
  {
   "cell_type": "code",
   "execution_count": 196,
   "id": "4e1c1be7",
   "metadata": {},
   "outputs": [],
   "source": [
    "# How many champions do You wanna compare?\n",
    "num = 8"
   ]
  },
  {
   "cell_type": "code",
   "execution_count": 197,
   "id": "641bbf70",
   "metadata": {
    "hide_input": true
   },
   "outputs": [],
   "source": [
    "import urllib, json \n",
    "NtoIDPath = f\"http://ddragon.leagueoflegends.com/cdn/{patch}/data/en_US/champion.json\"  # Name to ID Path \n",
    "NametoID = json.loads(urllib.request.urlopen(NtoIDPath).read())['data']                 # Name to ID Data "
   ]
  },
  {
   "cell_type": "code",
   "execution_count": 198,
   "id": "267640b2",
   "metadata": {
    "hide_input": true
   },
   "outputs": [],
   "source": [
    "CPath = \"https://euw1.api.riotgames.com/lol/champion-mastery/v4/champion-masteries/by-summoner/\"  # Path to the API Endpoint \n",
    "CData = requests.get(CPath + SummonerID, params=params).json()                                    # API Call for Champion-Data"
   ]
  },
  {
   "cell_type": "code",
   "execution_count": 199,
   "id": "16659b32",
   "metadata": {
    "hide_input": true
   },
   "outputs": [],
   "source": [
    "# First we generate a list of the ID's of the 5 best Champions. \n",
    "ChampIDs = []                                     \n",
    "for i in range(num):\n",
    "    ChampIDs.append(CData[i]['championId'])  "
   ]
  },
  {
   "cell_type": "code",
   "execution_count": 200,
   "id": "b4b82b93",
   "metadata": {
    "hide_input": false
   },
   "outputs": [],
   "source": [
    "# Than we load the converter from an external python file (make sure this is updated)\n",
    "# %load NameToID.py\n",
    "def n_id(_id):\n",
    "    name_to_id = {\n",
    "        1: \"Annie\",\n",
    "        2: \"Olaf\",\n",
    "        3: \"Galio\",\n",
    "        4: \"TwistedFate\",\n",
    "        5: \"XinZhao\",\n",
    "        6: \"Urgot\",\n",
    "        7: \"LeBlanc\",\n",
    "        8: \"Vladimir\",\n",
    "        9: \"Fiddlesticks\",\n",
    "        10: \"Kayle\",\n",
    "        11: \"Master Yi\",\n",
    "        12: \"Alistar\",\n",
    "        13: \"Ryze\",\n",
    "        14: \"Sion\",\n",
    "        15: \"Sivir\",\n",
    "        16: \"Soraka\",\n",
    "        17: \"Teemo\",\n",
    "        18: \"Tristana\",\n",
    "        19: \"Warwick\",\n",
    "        20: \"Nunu\",\n",
    "        21: \"MissFortune\",\n",
    "        22: \"Ashe\",\n",
    "        23: \"Tryndamere\",\n",
    "        24: \"Jax\",\n",
    "        25: \"Morgana\",\n",
    "        26: \"Zilean\",\n",
    "        27: \"Singed\",\n",
    "        28: \"Evelynn\",\n",
    "        29: \"Twitch\",\n",
    "        30: \"Karthus\",\n",
    "        31: \"Cho'Gath\",\n",
    "        32: \"Amumu\",\n",
    "        33: \"Rammus\",\n",
    "        34: \"Anivia\",\n",
    "        35: \"Shaco\",\n",
    "        36: \"Dr.Mundo\",\n",
    "        37: \"Sona\",\n",
    "        38: \"Kassadin\",\n",
    "        39: \"Irelia\",\n",
    "        40: \"Janna\",\n",
    "        41: \"Gangplank\",\n",
    "        42: \"Corki\",\n",
    "        43: \"Karma\",\n",
    "        44: \"Taric\",\n",
    "        45: \"Veigar\",\n",
    "        48: \"Trundle\",\n",
    "        50: \"Swain\",\n",
    "        51: \"Caitlyn\",\n",
    "        53: \"Blitzcrank\",\n",
    "        54: \"Malphite\",\n",
    "        55: \"Katarina\",\n",
    "        56: \"Nocturne\",\n",
    "        57: \"Maokai\",\n",
    "        58: \"Renekton\",\n",
    "        59: \"JarvanIV\",\n",
    "        60: \"Elise\",\n",
    "        61: \"Orianna\",\n",
    "        62: \"Wukong\",\n",
    "        63: \"Brand\",\n",
    "        64: \"LeeSin\",\n",
    "        67: \"Vayne\",\n",
    "        68: \"Rumble\",\n",
    "        69: \"Cassiopeia\",\n",
    "        72: \"Skarner\",\n",
    "        74: \"Heimerdinger\",\n",
    "        75: \"Nasus\",\n",
    "        76: \"Nidalee\",\n",
    "        77: \"Udyr\",\n",
    "        78: \"Poppy\",\n",
    "        79: \"Gragas\",\n",
    "        80: \"Pantheon\",\n",
    "        81: \"Ezreal\",\n",
    "        82: \"Mordekaiser\",\n",
    "        83: \"Yorick\",\n",
    "        84: \"Akali\",\n",
    "        85: \"Kennen\",\n",
    "        86: \"Garen\",\n",
    "        89: \"Leona\",\n",
    "        90: \"Malzahar\",\n",
    "        91: \"Talon\",\n",
    "        92: \"Riven\",\n",
    "        96: \"Kog'Maw\",\n",
    "        98: \"Shen\",\n",
    "        99: \"Lux\",\n",
    "        101: \"Xerath\",\n",
    "        102: \"Shyvana\",\n",
    "        103: \"Ahri\",\n",
    "        104: \"Graves\",\n",
    "        105: \"Fizz\",\n",
    "        106: \"Volibear\",\n",
    "        107: \"Rengar\",\n",
    "        110: \"Varus\",\n",
    "        111: \"Nautilus\",\n",
    "        112: \"Viktor\",\n",
    "        113: \"Sejuani\",\n",
    "        114: \"Fiora\",\n",
    "        115: \"Ziggs\",\n",
    "        117: \"Lulu\",\n",
    "        119: \"Draven\",\n",
    "        120: \"Hecarim\",\n",
    "        121: \"Kha'Zix\",\n",
    "        122: \"Darius\",\n",
    "        126: \"Jayce\",\n",
    "        127: \"Lissandra\",\n",
    "        131: \"Diana\",\n",
    "        133: \"Quinn\",\n",
    "        134: \"Syndra\",\n",
    "        136: \"AurelionSol\",\n",
    "        141: \"Kayn\",\n",
    "        142: \"Zoe\",\n",
    "        143: \"Zyra\",\n",
    "        145: \"Kaisa\",\n",
    "        150: \"Gnar\",\n",
    "        154: \"Zac\",\n",
    "        157: \"Yasuo\",\n",
    "        161: \"Vel'Koz\",\n",
    "        163: \"Taliyah\",\n",
    "        164: \"Camille\",\n",
    "        201: \"Braum\",\n",
    "        202: \"Jhin\",\n",
    "        203: \"Kindred\",\n",
    "        222: \"Jinx\",\n",
    "        223: \"TahmKench\",\n",
    "        235: \"Senna\",\n",
    "        236: \"Lucian\",\n",
    "        238: \"Zed\",\n",
    "        240: \"Kled\",\n",
    "        245: \"Ekko\",\n",
    "        246: \"Qiyana\",\n",
    "        254: \"Vi\",\n",
    "        266: \"Aatrox\",\n",
    "        267: \"Nami\",\n",
    "        268: \"Azir\",\n",
    "        350: \"Yuumi\",\n",
    "        412: \"Thresh\",\n",
    "        420: \"Illaoi\",\n",
    "        421: \"Rek'Sai\",\n",
    "        427: \"Ivern\",\n",
    "        429: \"Kalista\",\n",
    "        432: \"Bard\",\n",
    "        497: \"Rakan\",\n",
    "        498: \"Xayah\",\n",
    "        516: \"Ornn\",\n",
    "        517: \"Sylas\",\n",
    "        523: \"Aphelios\",\n",
    "        518: \"Neeko\",\n",
    "        555: \"Pyke\",\n",
    "        875: \"Sett\",\n",
    "        876: \"Lillia\",\n",
    "    }\n",
    "    return name_to_id.get(_id)"
   ]
  },
  {
   "cell_type": "code",
   "execution_count": 201,
   "id": "a882a663",
   "metadata": {
    "hide_input": false
   },
   "outputs": [],
   "source": [
    "# With the List of IDs and the converter we can generate the respective Champ Names  \n",
    "ChampNames = list(map(n_id, ChampIDs))"
   ]
  },
  {
   "cell_type": "code",
   "execution_count": 202,
   "id": "9f0bfc51",
   "metadata": {
    "hide_input": false,
    "scrolled": true
   },
   "outputs": [],
   "source": [
    "#After that we can make a dictionary with the full info of these 5 Champions. Name: {ID, Mastery, Points}\n",
    "ChampInfos = {}\n",
    "for i in range(num):\n",
    "    ChampDict = {}\n",
    "\n",
    "    ChampDict['ID'] = str(ChampIDs[i])\n",
    "    ChampDict['Mastery'] = str(CData[i]['championLevel'])\n",
    "    ChampDict['Points'] = str(CData[i]['championPoints'])\n",
    "\n",
    "    ChampInfos[\n",
    "        ChampNames[i]] = ChampDict  #Adding FullInfo Dict to another Dict"
   ]
  },
  {
   "cell_type": "code",
   "execution_count": 203,
   "id": "d6123acb",
   "metadata": {
    "hide_input": true
   },
   "outputs": [
    {
     "data": {
      "text/html": [
       "<img src='http://ddragon.leagueoflegends.com/cdn/11.7.1/img/champion/Morgana.png' style='width:40px;display: inline; margin-right: 10px; position: relative; left: 76px; top: 7px;'><img src='http://ddragon.leagueoflegends.com/cdn/11.7.1/img/champion/Leona.png' style='width:40px;display: inline; margin-right: 10px; position: relative; left: 76px;'><img src='http://ddragon.leagueoflegends.com/cdn/11.7.1/img/champion/Ashe.png' style='width:40px;display: inline; margin-right: 10px; position: relative; left: 76px;'><img src='http://ddragon.leagueoflegends.com/cdn/11.7.1/img/champion/Blitzcrank.png' style='width:40px;display: inline; margin-right: 10px; position: relative; left: 76px;'><img src='http://ddragon.leagueoflegends.com/cdn/11.7.1/img/champion/Thresh.png' style='width:40px;display: inline; margin-right: 10px; position: relative; left: 76px;'><img src='http://ddragon.leagueoflegends.com/cdn/11.7.1/img/champion/Pantheon.png' style='width:40px;display: inline; margin-right: 10px; position: relative; left: 76px;'><img src='http://ddragon.leagueoflegends.com/cdn/11.7.1/img/champion/Amumu.png' style='width:40px;display: inline; margin-right: 10px; position: relative; left: 76px;'><img src='http://ddragon.leagueoflegends.com/cdn/11.7.1/img/champion/Lux.png' style='width:40px;display: inline; margin-right: 10px; position: relative; left: 76px;'>"
      ],
      "text/plain": [
       "<IPython.core.display.HTML object>"
      ]
     },
     "metadata": {},
     "output_type": "display_data"
    }
   ],
   "source": [
    "# Generate the HTML img tags to display them inline\n",
    "CChampIcons = []\n",
    "\n",
    "for champ in ChampNames:\n",
    "    if ChampNames.index(champ) == 0: \n",
    "        Cimg = f\"<img src='http://ddragon.leagueoflegends.com/cdn/{patch}/img/champion/{champ}.png' style='width:{width};display: inline; margin-right: 10px; position: relative; left: 76px; top: 7px;'>\"\n",
    "        CChampIcons.append(Cimg)\n",
    "    else: \n",
    "        Cimg = f\"<img src='http://ddragon.leagueoflegends.com/cdn/{patch}/img/champion/{champ}.png' style='width:{width};display: inline; margin-right: 10px; position: relative; left: 76px;'>\"\n",
    "        CChampIcons.append(Cimg)\n",
    "\n",
    "AllIcons = ''\n",
    "for item in CChampIcons:\n",
    "    AllIcons += item\n",
    "\n",
    "display(HTML(AllIcons))"
   ]
  },
  {
   "cell_type": "code",
   "execution_count": 204,
   "id": "656ad016",
   "metadata": {
    "hide_input": true
   },
   "outputs": [
    {
     "name": "stdout",
     "output_type": "stream",
     "text": [
      "        Morgana  Leona   Ashe Blitzcrank Thresh Pantheon  Amumu    Lux\n",
      "ID           25     89     22         53    412       80     32     99\n",
      "Mastery       7      7      5          7      7        6      5      5\n",
      "Points   271759  77408  67360      56110  52735    40805  35998  29158\n"
     ]
    }
   ],
   "source": [
    "# Dislay the data collected in ChampInfos nicely in a pandas dataframe\n",
    "import pandas as pd \n",
    "df = pd.DataFrame(ChampInfos)\n",
    "print(df)"
   ]
  },
  {
   "cell_type": "markdown",
   "id": "c0bdadd0",
   "metadata": {
    "hide_input": true
   },
   "source": [
    "***\n",
    "## Rank"
   ]
  },
  {
   "cell_type": "code",
   "execution_count": 205,
   "id": "2d458b93",
   "metadata": {
    "hide_input": true
   },
   "outputs": [
    {
     "name": "stdout",
     "output_type": "stream",
     "text": [
      "        Rank-Type     Elo Rank Wins Losses Winrate\n",
      "  RANKED_SOLO_5x5  SILVER    I   50     49    0.51\n"
     ]
    }
   ],
   "source": [
    "# Get Rank Info from API Endpoint\n",
    "# Collect Data in RankInfos Dict \n",
    "# Display Data from RankInfos Dict as Pandas Dataframe \n",
    "RPath = \"https://euw1.api.riotgames.com/lol/league/v4/entries/by-summoner/\"\n",
    "RData = requests.get(RPath + SummonerID, params=params).json() \n",
    "RankInfos = {}\n",
    "index = 0\n",
    "\n",
    "try:\n",
    "    if RData[0]['queueType'] == 'RANKED_FLEX_SR':\n",
    "        index = 1\n",
    "    else: \n",
    "        index = 0\n",
    "        \n",
    "    RQueue = RData[index]['queueType']\n",
    "    RTier  = RData[index]['tier']\n",
    "    RRank  = RData[index]['rank'] \n",
    "    RWins  = RData[index]['wins']\n",
    "    RLoss  = RData[index]['losses']\n",
    "    RWr = round(RWins/ (RWins + RLoss), 2)\n",
    "\n",
    "    RankInfos['Rank-Type'] = RQueue \n",
    "    RankInfos['Elo'] = RTier\n",
    "    RankInfos['Rank'] = RRank \n",
    "    RankInfos['Wins'] = str(RWins)\n",
    "    RankInfos['Losses'] = str(RLoss)\n",
    "    RankInfos['Winrate'] = str(RWr)\n",
    "    df2 = pd.DataFrame(RankInfos, index=[\"\"])\n",
    "    print(df2)\n",
    "except IndexError:\n",
    "    print('This summoner does not seem to play any rank games.')"
   ]
  },
  {
   "cell_type": "markdown",
   "id": "c251327b",
   "metadata": {},
   "source": [
    "***\n",
    "## Play Rate "
   ]
  },
  {
   "cell_type": "code",
   "execution_count": 206,
   "id": "5c9aadf6",
   "metadata": {
    "hide_input": false
   },
   "outputs": [],
   "source": [
    "# List of possible queue-ID's\n",
    "# 420 = Ranked_5v5\n",
    "# 400 = Normal Draft 5v5\n",
    "# 450 = ARAM 5v5\n",
    "# 1020 = Event Game (e.g. One for All)\n",
    "queue = 400\n",
    "begIND = 0  # 0= Last Game\n",
    "endIND = 50  # 1-50"
   ]
  },
  {
   "cell_type": "markdown",
   "id": "bc7ca592",
   "metadata": {},
   "source": [
    "Full [Info](http://static.developer.riotgames.com/docs/lol/queues.json) of the queue-IDs."
   ]
  },
  {
   "cell_type": "code",
   "execution_count": 207,
   "id": "929f12cd",
   "metadata": {
    "hide_input": true
   },
   "outputs": [],
   "source": [
    "params1 = {'queue': queue, 'endIndex': endIND, 'beginIndex': begIND, 'api_key': key}"
   ]
  },
  {
   "cell_type": "code",
   "execution_count": 208,
   "id": "37d4f49a",
   "metadata": {
    "hide_input": true
   },
   "outputs": [],
   "source": [
    "APath = \"https://euw1.api.riotgames.com/lol/match/v4/matchlists/by-account/\"\n",
    "AData = requests.get(APath+AccountID, params=params1).json()['matches']\n",
    "\n",
    "ACountChamps = {}\n",
    "            \n",
    "# Create Dict of Champions and their counts (=0)\n",
    "for match in AData:\n",
    "    AChamp = str(match['champion'])\n",
    "    ACountChamps[AChamp] = 0\n",
    "\n",
    "for match in AData: \n",
    "    AChamp = str(match['champion'])\n",
    "    ACount = ACountChamps[AChamp] + 1\n",
    "    ACountChamps[AChamp] = ACount\n",
    "\n"
   ]
  },
  {
   "cell_type": "code",
   "execution_count": 210,
   "id": "7470f9cd",
   "metadata": {
    "hide_input": true
   },
   "outputs": [
    {
     "data": {
      "image/png": "[encoded data removed]",
      "text/plain": [
       "<Figure size 432x288 with 1 Axes>"
      ]
     },
     "metadata": {
      "needs_background": "light"
     },
     "output_type": "display_data"
    }
   ],
   "source": [
    "import numpy as np\n",
    "from matplotlib import pyplot as plt\n",
    "%matplotlib inline\n",
    "\n",
    "fig, ax = plt.subplots()\n",
    "ax.set_title('Champion Distribution Season 11')\n",
    "ax.set_xlabel('Play-Rate')\n",
    "ax.set_ylabel('Champions')\n",
    "\n",
    "y_vals = [value for value in ACountChamps.values()]\n",
    "y_champs = [n_id(int(key)) for key in ACountChamps]\n",
    "y_pos = np.arange(len(y_champs)) \n",
    "\n",
    "plt.barh(y_champs, y_vals)\n",
    "plt.show()"
   ]
  }
 ],
 "metadata": {
  "kernelspec": {
   "display_name": "Python 3",
   "language": "python",
   "name": "python3"
  },
  "language_info": {
   "codemirror_mode": {
    "name": "ipython",
    "version": 3
   },
   "file_extension": ".py",
   "mimetype": "text/x-python",
   "name": "python",
   "nbconvert_exporter": "python",
   "pygments_lexer": "ipython3",
   "version": "3.9.1"
  }
 },
 "nbformat": 4,
 "nbformat_minor": 5
}
